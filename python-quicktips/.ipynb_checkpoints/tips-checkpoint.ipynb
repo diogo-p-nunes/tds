{
 "cells": [
  {
   "cell_type": "markdown",
   "id": "8be12e69-b90e-4d60-9077-24e5de16bf8a",
   "metadata": {},
   "source": [
    "# 1.1"
   ]
  },
  {
   "cell_type": "code",
   "execution_count": 1,
   "id": "7f0716e4-55fd-436a-97c6-5d8a75d21f56",
   "metadata": {},
   "outputs": [
    {
     "data": {
      "text/plain": [
       "{'john': 10, 'richard': 18, 'eva': 20, 'anabella': 23, 'david': 32}"
      ]
     },
     "execution_count": 1,
     "metadata": {},
     "output_type": "execute_result"
    }
   ],
   "source": [
    "person_age = {\n",
    "\t'john': 10,\n",
    "\t'eva' : 20,\n",
    "\t'richard': 18,\n",
    "\t'anabella': 23,\n",
    "\t'david': 32\n",
    "}\n",
    "\n",
    "sorted_person_age = dict(sorted(person_age.items(), key = lambda item: item[1]))\n",
    "sorted_person_age"
   ]
  },
  {
   "cell_type": "markdown",
   "id": "2dbe86d1-d67d-443f-bb3f-dddf71eee6d2",
   "metadata": {},
   "source": [
    "# 1.2"
   ]
  },
  {
   "cell_type": "code",
   "execution_count": 2,
   "id": "7e3fac8d-6414-4b81-9da9-495708dce299",
   "metadata": {},
   "outputs": [
    {
     "data": {
      "text/plain": [
       "[['john', 10], ['richard', 18], ['eva', 20], ['anabella', 23], ['david', 32]]"
      ]
     },
     "execution_count": 2,
     "metadata": {},
     "output_type": "execute_result"
    }
   ],
   "source": [
    "person_age = [\n",
    "     ['john', 10],\n",
    "     ['eva', 20],\n",
    "     ['richard', 18],\n",
    "     ['anabella', 23],\n",
    "     ['david', 32]\n",
    "]\n",
    "\n",
    "# inplace sorting\n",
    "person_age.sort(key=lambda x: x[1])\n",
    "person_age"
   ]
  },
  {
   "cell_type": "code",
   "execution_count": null,
   "id": "3024032e-ad03-4333-8a7f-6d7caabd6e10",
   "metadata": {},
   "outputs": [],
   "source": []
  }
 ],
 "metadata": {
  "kernelspec": {
   "display_name": "Python 3 (ipykernel)",
   "language": "python",
   "name": "python3"
  },
  "language_info": {
   "codemirror_mode": {
    "name": "ipython",
    "version": 3
   },
   "file_extension": ".py",
   "mimetype": "text/x-python",
   "name": "python",
   "nbconvert_exporter": "python",
   "pygments_lexer": "ipython3",
   "version": "3.9.7"
  }
 },
 "nbformat": 4,
 "nbformat_minor": 5
}
