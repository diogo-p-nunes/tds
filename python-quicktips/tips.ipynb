{
 "cells": [
  {
   "cell_type": "markdown",
   "id": "8be12e69-b90e-4d60-9077-24e5de16bf8a",
   "metadata": {},
   "source": [
    "# 1.1"
   ]
  },
  {
   "cell_type": "code",
   "execution_count": 1,
   "id": "7f0716e4-55fd-436a-97c6-5d8a75d21f56",
   "metadata": {},
   "outputs": [
    {
     "data": {
      "text/plain": [
       "{'john': 10, 'richard': 18, 'eva': 20, 'anabella': 23, 'david': 32}"
      ]
     },
     "execution_count": 1,
     "metadata": {},
     "output_type": "execute_result"
    }
   ],
   "source": [
    "person_age = {\n",
    "\t'john': 10,\n",
    "\t'eva' : 20,\n",
    "\t'richard': 18,\n",
    "\t'anabella': 23,\n",
    "\t'david': 32\n",
    "}\n",
    "\n",
    "sorted_person_age = dict(sorted(person_age.items(), key = lambda item: item[1]))\n",
    "sorted_person_age"
   ]
  },
  {
   "cell_type": "markdown",
   "id": "2dbe86d1-d67d-443f-bb3f-dddf71eee6d2",
   "metadata": {},
   "source": [
    "# 1.2"
   ]
  },
  {
   "cell_type": "code",
   "execution_count": 2,
   "id": "7e3fac8d-6414-4b81-9da9-495708dce299",
   "metadata": {},
   "outputs": [
    {
     "data": {
      "text/plain": [
       "[['john', 10], ['richard', 18], ['eva', 20], ['anabella', 23], ['david', 32]]"
      ]
     },
     "execution_count": 2,
     "metadata": {},
     "output_type": "execute_result"
    }
   ],
   "source": [
    "person_age = [\n",
    "     ['john', 10],\n",
    "     ['eva', 20],\n",
    "     ['richard', 18],\n",
    "     ['anabella', 23],\n",
    "     ['david', 32]\n",
    "]\n",
    "\n",
    "# inplace sorting\n",
    "person_age.sort(key=lambda x: x[1])\n",
    "person_age"
   ]
  },
  {
   "cell_type": "markdown",
   "id": "e1266b0a-1670-4b17-84c5-6ad958aff514",
   "metadata": {},
   "source": [
    "# 2.1"
   ]
  },
  {
   "cell_type": "code",
   "execution_count": 4,
   "id": "cd7e6b26-c5b0-46f0-965f-cdab0c8b9185",
   "metadata": {},
   "outputs": [
    {
     "data": {
      "text/plain": [
       "([1, 2, 3, 4, 5, 10], (1, 2, 3, 4, 5, 10))"
      ]
     },
     "execution_count": 4,
     "metadata": {},
     "output_type": "execute_result"
    }
   ],
   "source": [
    "my_list  = [1, 1, 1, 4, 3, 2, 1, 1, 10, 4, 5, 3]\n",
    "my_tuple = (1, 1, 1, 4, 3, 2, 1, 1, 10, 4, 5, 3)\n",
    "\n",
    "unique_list  =  list(set(my_list))\n",
    "unique_tuple = tuple(set(my_list))\n",
    "\n",
    "unique_list, unique_tuple"
   ]
  },
  {
   "cell_type": "markdown",
   "id": "cf917ffb-c8dd-4fce-8f15-e6d5033e9d9f",
   "metadata": {},
   "source": [
    "# 2.2"
   ]
  },
  {
   "cell_type": "code",
   "execution_count": 10,
   "id": "1b97ba14-ba41-49e3-9c77-b8cf7535d27a",
   "metadata": {},
   "outputs": [
    {
     "data": {
      "text/plain": [
       "array([ 1,  2,  3,  4,  5, 10])"
      ]
     },
     "execution_count": 10,
     "metadata": {},
     "output_type": "execute_result"
    }
   ],
   "source": [
    "import numpy as np\n",
    "\n",
    "my_array = np.array([1, 1, 1, 4, 3, 2, 1, 1, 10, 4, 5, 3])\n",
    "\n",
    "unique_array = np.unique(my_array, return_counts=False)\n",
    "\n",
    "unique_array"
   ]
  },
  {
   "cell_type": "markdown",
   "id": "edeb5e57-757b-4ce9-a610-544c0acaa597",
   "metadata": {},
   "source": [
    "# 2.3"
   ]
  },
  {
   "cell_type": "code",
   "execution_count": 11,
   "id": "9a9cc3ae-2091-414b-bb16-ce30e37cdd56",
   "metadata": {},
   "outputs": [
    {
     "data": {
      "text/plain": [
       "array([ 1,  4,  3,  2, 10,  5])"
      ]
     },
     "execution_count": 11,
     "metadata": {},
     "output_type": "execute_result"
    }
   ],
   "source": [
    "import pandas as pd\n",
    "\n",
    "my_df = pd.DataFrame([1, 1, 1, 4, 3, 2, 1, 1, 10, 4, 5, 3], columns=['numbers'])\n",
    "\n",
    "unique_col = my_df['numbers'].unique()\n",
    "unique_col"
   ]
  },
  {
   "cell_type": "code",
   "execution_count": null,
   "id": "906cadee-a457-4257-acfa-15478d409217",
   "metadata": {},
   "outputs": [],
   "source": []
  }
 ],
 "metadata": {
  "kernelspec": {
   "display_name": "Python 3 (ipykernel)",
   "language": "python",
   "name": "python3"
  },
  "language_info": {
   "codemirror_mode": {
    "name": "ipython",
    "version": 3
   },
   "file_extension": ".py",
   "mimetype": "text/x-python",
   "name": "python",
   "nbconvert_exporter": "python",
   "pygments_lexer": "ipython3",
   "version": "3.9.7"
  }
 },
 "nbformat": 4,
 "nbformat_minor": 5
}
