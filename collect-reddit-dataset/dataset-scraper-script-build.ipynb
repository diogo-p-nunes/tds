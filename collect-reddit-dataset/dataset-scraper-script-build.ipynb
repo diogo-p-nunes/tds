{
 "cells": [
  {
   "cell_type": "code",
   "execution_count": 9,
   "metadata": {},
   "outputs": [],
   "source": [
    "import praw\n",
    "from psaw import PushshiftAPI\n",
    "\n",
    "import os\n",
    "import time\n",
    "\n",
    "import pandas as pd\n",
    "import datetime as dt"
   ]
  },
  {
   "cell_type": "code",
   "execution_count": 3,
   "metadata": {},
   "outputs": [],
   "source": [
    "api = PushshiftAPI()"
   ]
  },
  {
   "cell_type": "code",
   "execution_count": 4,
   "metadata": {},
   "outputs": [],
   "source": [
    "reddit = praw.Reddit(\n",
    "    client_id = \"MkJra7eWQ9WCIw\",\n",
    "    client_secret = \"4Bkrr--Hg2hcnyCuDDBMygKbvBhpbw\",\n",
    "    user_agent = \"my agent to chronic pain\",\n",
    "    username = \"chronic-pain-scraper\",\n",
    "    password = \"123chronicpain123\"\n",
    ")"
   ]
  },
  {
   "cell_type": "code",
   "execution_count": 5,
   "metadata": {},
   "outputs": [],
   "source": [
    "subreddits = ['shortscarystories']\n",
    "basecorpus = './my-dataset/'"
   ]
  },
  {
   "cell_type": "code",
   "execution_count": 11,
   "metadata": {},
   "outputs": [],
   "source": [
    "start_year = 2020\n",
    "end_year = 2021"
   ]
  },
  {
   "cell_type": "code",
   "execution_count": 12,
   "metadata": {},
   "outputs": [],
   "source": [
    "def log_action(action):\n",
    "    print(action)\n",
    "    return"
   ]
  },
  {
   "cell_type": "code",
   "execution_count": 13,
   "metadata": {},
   "outputs": [
    {
     "name": "stdout",
     "output_type": "stream",
     "text": [
      "[Year] 2020\n",
      "\t[Subreddit] shortscarystories\n",
      "\t\t[Info] Found submissions: 1000\n",
      "\t\t[Info] Elapsed time:  972.43s\n",
      "[Year] 2021\n",
      "\t[Subreddit] shortscarystories\n",
      "\t\t[Info] Found submissions: 1000\n",
      "\t\t[Info] Elapsed time:  1009.66s\n"
     ]
    }
   ],
   "source": [
    "for year in range(start_year, end_year+1):\n",
    "    action = \"[Year] \" + str(year)\n",
    "    log_action(action)\n",
    "\n",
    "    dirpath = basecorpus + str(year)\n",
    "    if not os.path.exists(dirpath):\n",
    "        os.makedirs(dirpath)\n",
    "\n",
    "    # timestamps that define window of posts\n",
    "    ts_after = int(dt.datetime(year, 1, 1).timestamp())\n",
    "    ts_before = int(dt.datetime(year+1, 1, 1).timestamp())\n",
    "\n",
    "    for subreddit in subreddits:\n",
    "        start_time = time.time()\n",
    "\n",
    "        action = \"\\t[Subreddit] \" + subreddit\n",
    "        log_action(action)\n",
    "\n",
    "        subredditdirpath = dirpath + '/' + subreddit\n",
    "        if os.path.exists(subredditdirpath):\n",
    "            continue\n",
    "        else:\n",
    "            os.makedirs(subredditdirpath)\n",
    "\n",
    "        submissions_csv_path = str(year) + '-' + subreddit + '-submissions.csv'\n",
    "        submissions_dict = {\n",
    "            \"id\" : [],\n",
    "            \"url\" : [],\n",
    "            \"title\" : [],\n",
    "            \"score\" : [],\n",
    "            \"num_comments\": [],\n",
    "            \"created_utc\" : [],\n",
    "            \"selftext\" : [],\n",
    "        }\n",
    "\n",
    "        # use PSAW only to get id of submissions in time interval\n",
    "        gen = api.search_submissions(\n",
    "            after=ts_after,\n",
    "            before=ts_before,\n",
    "            filter=['id'],\n",
    "            subreddit=subreddit,\n",
    "            limit=1000\n",
    "        )\n",
    "\n",
    "        # use PRAW to get actual info and traverse comment tree\n",
    "        for submission_psaw in gen:\n",
    "            # use psaw here\n",
    "            submission_id = submission_psaw.d_['id']\n",
    "            # use praw from now on\n",
    "            submission_praw = reddit.submission(id=submission_id)\n",
    "\n",
    "            submissions_dict[\"id\"].append(submission_praw.id)\n",
    "            submissions_dict[\"url\"].append(submission_praw.url)\n",
    "            submissions_dict[\"title\"].append(submission_praw.title)\n",
    "            submissions_dict[\"score\"].append(submission_praw.score)\n",
    "            submissions_dict[\"num_comments\"].append(submission_praw.num_comments)\n",
    "            submissions_dict[\"created_utc\"].append(submission_praw.created_utc)\n",
    "            submissions_dict[\"selftext\"].append(submission_praw.selftext)\n",
    "\n",
    "            submission_comments_csv_path = str(year) + '-' + subreddit + '-submission_' + submission_id + '-comments.csv'\n",
    "            submission_comments_dict = {\n",
    "                \"comment_id\" : [],\n",
    "                \"comment_parent_id\" : [],\n",
    "                \"comment_body\" : [],\n",
    "                \"comment_link_id\" : [],\n",
    "            }\n",
    "\n",
    "            # extend the comment tree all the way\n",
    "            submission_praw.comments.replace_more(limit=None)\n",
    "            # for each comment in flattened comment tree\n",
    "            for comment in submission_praw.comments.list():\n",
    "                submission_comments_dict[\"comment_id\"].append(comment.id)\n",
    "                submission_comments_dict[\"comment_parent_id\"].append(comment.parent_id)\n",
    "                submission_comments_dict[\"comment_body\"].append(comment.body)\n",
    "                submission_comments_dict[\"comment_link_id\"].append(comment.link_id)\n",
    "\n",
    "            # for each submission save separate csv comment file\n",
    "            pd.DataFrame(submission_comments_dict).to_csv(subredditdirpath + '/' + submission_comments_csv_path,\n",
    "                                                          index=False)\n",
    "\n",
    "        pd.DataFrame(submissions_dict).to_csv(subredditdirpath + '/' + submissions_csv_path,\n",
    "                                              index=False)\n",
    "\n",
    "\n",
    "        action = f\"\\t\\t[Info] Found submissions: {pd.DataFrame(submissions_dict).shape[0]}\"\n",
    "        log_action(action)\n",
    "\n",
    "        action = f\"\\t\\t[Info] Elapsed time: {time.time() - start_time: .2f}s\"\n",
    "        log_action(action)"
   ]
  },
  {
   "cell_type": "code",
   "execution_count": null,
   "metadata": {},
   "outputs": [],
   "source": []
  }
 ],
 "metadata": {
  "kernelspec": {
   "display_name": "Python 3 (ipykernel)",
   "language": "python",
   "name": "python3"
  },
  "language_info": {
   "codemirror_mode": {
    "name": "ipython",
    "version": 3
   },
   "file_extension": ".py",
   "mimetype": "text/x-python",
   "name": "python",
   "nbconvert_exporter": "python",
   "pygments_lexer": "ipython3",
   "version": "3.9.7"
  }
 },
 "nbformat": 4,
 "nbformat_minor": 4
}
